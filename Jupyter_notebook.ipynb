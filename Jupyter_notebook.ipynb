{
 "cells": [
  {
   "cell_type": "markdown",
   "metadata": {},
   "source": [
    "### Using Markdown with HTML\n",
    "<h1 style=\"color:blue;\">This is a Blue Heading (H1)</h1>\n",
    "<h2 style=\"color:red;\">This is a Red Heading (H2)</h2>\n",
    "<h3 style=\"color:green;\">This is a Green Heading (H3)</h3>\n"
   ]
  },
  {
   "cell_type": "markdown",
   "metadata": {},
   "source": [
    "### Using Markdown with Inline CSS for Custom Colors\n",
    "\n",
    "# <span style=\"color:blue\">Blue Heading</span>\n",
    "\n",
    "## <span style=\"color:red\">Red Heading</span>\n",
    "\n",
    "### <span style=\"color:green\">Green Heading</span>\n"
   ]
  },
  {
   "cell_type": "markdown",
   "metadata": {},
   "source": [
    "### centering the heading"
   ]
  },
  {
   "cell_type": "markdown",
   "metadata": {},
   "source": [
    "<span style=\"color:green; text-align:center; display:block;\">Decision Tree</span>\n"
   ]
  },
  {
   "cell_type": "markdown",
   "metadata": {},
   "source": []
  }
 ],
 "metadata": {
  "language_info": {
   "name": "python"
  }
 },
 "nbformat": 4,
 "nbformat_minor": 2
}
